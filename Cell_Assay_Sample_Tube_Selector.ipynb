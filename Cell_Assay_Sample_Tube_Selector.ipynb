{
  "cells": [
    {
      "cell_type": "code",
      "execution_count": null,
      "metadata": {
        "id": "mtH8xBiftZwx"
      },
      "outputs": [],
      "source": [
        "\"\"\"\n",
        "Developed by: Vishnu Swaminathan\n",
        "\n",
        "\"\"\"\n",
        "import numpy as np\n",
        "import pandas as pd"
      ]
    },
    {
      "cell_type": "code",
      "execution_count": null,
      "metadata": {
        "id": "0sumJkq8tZw7"
      },
      "outputs": [],
      "source": [
        "\"\"\"\n",
        "The tube_selector method has two arguments: the first a sample-tube-volume dataframe ('stv_df'), and the second an assay volume dictionary ('av_dict').\n",
        "This method returns a nested dictionary containing the sample ID as the key, and the set of assays with their corresponding tube_id.\n",
        "\"\"\"\n",
        "def tube_selector(stv_df, av_dict):\n",
        "  \"\"\"An important assumption I made, was that the dataframe used to call this method would be for only ONE sample type.\"\"\"\n",
        "\n",
        "  \"\"\"The first cell will always contain the sample id (given previous assumptions).\"\"\"\n",
        "  sample_id = stv_df.iat[0,0]\n",
        "  \"\"\"\n",
        "  For better performance considerations with using vectorization, I thought it would be be useful to go from pandas to numpy.\n",
        "  Hence, I converted the stv pandas dataframe ('stv_df') to the stv numpy ndarray ('stv_np').\n",
        "  \"\"\"\n",
        "  stv_np = stv_df.to_numpy()\n",
        "  \"\"\"\n",
        "  In order to efficiently search the ndarray later, it would make sense to sort the ndarray by the last column (volume).\n",
        "  I went with using stable (i.e. timsort), giving us a time complexity of O(n*log(n)). \n",
        "  Although \"heapsort\" may provide better performance, at least with space complexity, heap sort swaps data and that means two reads + two writes each swap.\n",
        "  \"\"\"\n",
        "  stv_np = stv_np[np.argsort(stv_np[:, -1], kind=\"stable\")]\n",
        "  \"\"\"I also sorted the assay volume dictionary (ascending), so that lower volumed assays would be prioritized first.\"\"\"\n",
        "  av_dict = dict(sorted(av_dict.items(), key=lambda item: item[1]))\n",
        "\n",
        "  \"\"\"The for-loop will iterate through all the assays in the av_dict.\"\"\"\n",
        "  assays = {}\n",
        "  for key in av_dict.keys():\n",
        "    \"\"\"It is important to check first whether there are even tubes available, hence if the stv_np size is 0, there are no tubes for that assay.\"\"\"\n",
        "    if np.size(stv_np)==0:\n",
        "      assays.update({key:\"no tube\"})\n",
        "      continue\n",
        "\n",
        "    \"\"\"\n",
        "    I can get the index of the tube id that fits our assay requirements, by using numpy's searchsorted method.\n",
        "    As mentioned, only because I already sorted the stv ndarray earlier, can I now use this function.\n",
        "    The returned index value is where the current assay volume requirement would be inserted to maintain order, hence that is also the index of the correct tube id.\n",
        "    \"\"\"\n",
        "    index = np.searchsorted(stv_np[:,-1], av_dict[key])\n",
        "    rows, columns = stv_np.shape\n",
        "    \n",
        "    \"\"\"Final check if the index is 'out of bounds', i.e. there are no tubes that can fit the assay requirements.\"\"\"\n",
        "    if index >= rows:\n",
        "      assays.update({key:\"no tube\"})\n",
        "      continue\n",
        "\n",
        "    \"\"\"Update the 'assay' dictionary with the new keys/values, and then delete the row from the ndarray.\"\"\"\n",
        "    assays.update({key:stv_np[index,1]})\n",
        "    stv_np = np.delete(stv_np, (index), axis=0)\n",
        "    \n",
        "  return {sample_id: assays}"
      ]
    },
    {
      "cell_type": "code",
      "execution_count": null,
      "metadata": {
        "id": "RaxTwErttZw8",
        "colab": {
          "base_uri": "https://localhost:8080/"
        },
        "outputId": "8944dab2-4db1-4967-b9fe-0ece0f1fc1e8"
      },
      "outputs": [
        {
          "output_type": "execute_result",
          "data": {
            "text/plain": [
              "{68499: {'A': 269259, 'B': 271268, 'C': 269312, 'D': 269309, 'E': 269219}}"
            ]
          },
          "metadata": {},
          "execution_count": 3
        }
      ],
      "source": [
        "\"\"\"Can uncomment and use 'df' and 'av_dict' as the sample-tube-volume dataframe and the assay volume dictionary (respectively).\"\"\"\n",
        "df = pd.read_csv(\"sample_data_(1).csv\")\n",
        "av_dict =  {'A':30, 'B':600, 'C':1000, 'D':1000, 'E':1000}\n",
        "tube_selector(df,av_dict)  "
      ]
    }
  ],
  "metadata": {
    "kernelspec": {
      "display_name": "Python 3",
      "language": "python",
      "name": "python3"
    },
    "language_info": {
      "codemirror_mode": {
        "name": "ipython",
        "version": 3
      },
      "file_extension": ".py",
      "mimetype": "text/x-python",
      "name": "python",
      "nbconvert_exporter": "python",
      "pygments_lexer": "ipython3",
      "version": "3.7.6"
    },
    "colab": {
      "name": "Vishnu Swaminathan - Freenome Data Analyst Assignment.ipynb",
      "provenance": [],
      "collapsed_sections": []
    }
  },
  "nbformat": 4,
  "nbformat_minor": 0
}